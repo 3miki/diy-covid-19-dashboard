{
 "cells": [
  {
   "cell_type": "markdown",
   "metadata": {},
   "source": [
    "[DIY Covid-19 Dashboard](https://github.com/3miki/diy-covid-19-dashboard) (C) Miki Suzuki, 2023. This notebook is released under the [GNU GPLv3.0 or later](https://www.gnu.org/licenses/)."
   ]
  },
  {
   "cell_type": "markdown",
   "metadata": {},
   "source": [
    "# DIY Covid-19 Dashboard"
   ]
  },
  {
   "cell_type": "code",
   "execution_count": 1,
   "metadata": {
    "ExecuteTime": {
     "end_time": "2023-12-12T12:35:00.217387Z",
     "start_time": "2023-12-12T12:34:58.010252Z"
    }
   },
   "outputs": [],
   "source": [
    "from IPython.display import clear_output\n",
    "import ipywidgets as wdg\n",
    "import pandas as pd\n",
    "import numpy as np\n",
    "import matplotlib.pyplot as plt\n",
    "import json\n",
    "from uk_covid19 import Cov19API"
   ]
  },
  {
   "cell_type": "code",
   "execution_count": 2,
   "metadata": {
    "ExecuteTime": {
     "end_time": "2023-12-12T12:35:00.255015Z",
     "start_time": "2023-12-12T12:35:00.217810Z"
    }
   },
   "outputs": [],
   "source": [
    "%matplotlib inline\n",
    "plt.rcParams['figure.dpi'] = 100"
   ]
  },
  {
   "cell_type": "code",
   "execution_count": 3,
   "metadata": {
    "ExecuteTime": {
     "end_time": "2023-12-12T12:35:00.260499Z",
     "start_time": "2023-12-12T12:35:00.255569Z"
    }
   },
   "outputs": [],
   "source": [
    "data_filename = 'AnalysisByAge220101.json'\n",
    "with open(data_filename, 'rt') as data_file:\n",
    "    analysis_by_age_initial_data=json.load(data_file)"
   ]
  },
  {
   "cell_type": "code",
   "execution_count": 10,
   "metadata": {
    "ExecuteTime": {
     "end_time": "2023-12-12T12:47:35.642650Z",
     "start_time": "2023-12-12T12:47:35.640390Z"
    }
   },
   "outputs": [],
   "source": [
    "def min_age(agerange):\n",
    "    agerange = agerange.replace('+','')\n",
    "    start = agerange.split('_')[0]\n",
    "    return start\n",
    " \n",
    "# The First graph uses data from the two metrics 'newCasesBySpecimenDateAgeDemographics' and 'newReinfectionsBySpecimenDateAgeDemographics'.\n",
    "def wrangle_data1(apidata):\n",
    "    data_dict = apidata['data'][0]\n",
    "    case = data_dict['CaseByAge']\n",
    "    reinfection = data_dict['ReinfectionByAge']\n",
    "    ageranges1 = [x['age'] for x in case]\n",
    "    # Remove age ranges unwanted in the graph. The age range '00-59' and '60+' are total numbers within the age ranges (duplicate).\n",
    "    ageranges1.remove('00_59')\n",
    "    ageranges1.remove('60+')\n",
    "    ageranges1.remove('unassigned')\n",
    "    ageranges1.sort(key=min_age) \n",
    "    age_df1 = pd.DataFrame(index=ageranges1, columns=['Total Infection','Reinfection'])\n",
    "    for entry in case:\n",
    "        if entry['age'] in ageranges1:\n",
    "            ageband = entry['age']\n",
    "            age_df1.loc[ageband, 'Total Infection']=entry['cases'] if entry['cases'] != None else 0.0\n",
    "    for entry in reinfection:\n",
    "        if entry['age'] in ageranges1:\n",
    "            ageband = entry['age']\n",
    "            age_df1.loc[ageband, 'Reinfection']=entry['cases'] if entry['cases'] != None else 0.0\n",
    "    return age_df1\n",
    "\n",
    "# The metric 'vaccinationsAgeDemographics' has different age groups from the above metrics and needs a separate graph.\n",
    "# The second graph uses data from this metric which is divided into three categories: 'First Dose', 'Second Dose', and 'Third Dose'.\n",
    "def wrangle_data2(apidata):\n",
    "    data_dict = apidata['data'][0]\n",
    "    vaccination = data_dict['VaccinationByAge']    \n",
    "    ageranges2 = [x['age'] for x in vaccination]\n",
    "    ageranges2.remove('50+')\n",
    "    ageranges2.remove('65+')\n",
    "    ageranges2.remove('75+')\n",
    "    ageranges2.sort(key=min_age)\n",
    "    age_df2 = pd.DataFrame(index=ageranges2, columns=['First Dose', 'Second Dose', 'Third Dose'])\n",
    "    for entry in vaccination:\n",
    "        if entry['age'] in ageranges2:\n",
    "            ageband = entry['age']\n",
    "            age_df2.loc[ageband, 'First Dose'] = entry['cumPeopleVaccinatedFirstDoseByVaccinationDate'] if entry['cumPeopleVaccinatedFirstDoseByVaccinationDate'] != None else 0.0\n",
    "            age_df2.loc[ageband, 'Second Dose'] = entry['cumPeopleVaccinatedSecondDoseByVaccinationDate'] if entry['cumPeopleVaccinatedSecondDoseByVaccinationDate'] != None else 0.0\n",
    "            age_df2.loc[ageband, 'Third Dose'] = entry['cumPeopleVaccinatedThirdInjectionByVaccinationDate'] if entry['cumPeopleVaccinatedThirdInjectionByVaccinationDate'] != None else 0.0\n",
    "    return age_df2\n",
    "\n",
    "age_df1 = wrangle_data1(analysis_by_age_initial_data)\n",
    "age_df2 = wrangle_data2(analysis_by_age_initial_data)"
   ]
  },
  {
   "cell_type": "code",
   "execution_count": 5,
   "metadata": {
    "ExecuteTime": {
     "end_time": "2023-12-12T12:35:00.275145Z",
     "start_time": "2023-12-12T12:35:00.269133Z"
    }
   },
   "outputs": [],
   "source": [
    "def access_api(date: str):\n",
    "    # The data was too heavy to load if the date was not specified.   \n",
    "    # Date can be selected from options in a dropdown widget. \n",
    "    filters = [\n",
    "        'areaType=nation',\n",
    "        'areaName=England',\n",
    "        f'date={date}'\n",
    "    ]\n",
    "    structure = {\n",
    "        'CaseByAge':'newCasesBySpecimenDateAgeDemographics',\n",
    "        'ReinfectionByAge':'newReinfectionsBySpecimenDateAgeDemographics',\n",
    "        'VaccinationByAge':'vaccinationsAgeDemographics'\n",
    "    }\n",
    "    \n",
    "    api = Cov19API(filters=filters, structure=structure)\n",
    "    analysisByAge = api.get_json()\n",
    "\n",
    "    # A new JSON file will be created for the selected date.\n",
    "    # If the file already exists, it will be overwritten.\n",
    "    covid_filename = f'AnalysisByAge_{date}.json'\n",
    "    with open(covid_filename, \"wt\") as file:\n",
    "        json.dump(analysisByAge, file)\n",
    "    return analysisByAge"
   ]
  },
  {
   "cell_type": "markdown",
   "metadata": {},
   "source": [
    "## Pick any date from the following options to display graphs of your selected date"
   ]
  },
  {
   "cell_type": "markdown",
   "metadata": {},
   "source": [
    "The initial specified date for the following graphs is 2022-01-01. \n",
    "You can choose a date from the options below."
   ]
  },
  {
   "cell_type": "code",
   "execution_count": 6,
   "metadata": {
    "ExecuteTime": {
     "end_time": "2023-12-12T12:35:00.504090Z",
     "start_time": "2023-12-12T12:35:00.495088Z"
    }
   },
   "outputs": [
    {
     "data": {
      "text/plain": "HBox(children=(Dropdown(description='Select a date', index=2, options=('2021-01-01', '2021-07-01', '2022-01-01…",
      "application/vnd.jupyter.widget-view+json": {
       "version_major": 2,
       "version_minor": 0,
       "model_id": "0dafc586c9c34ea28d1bd597983d5de6"
      }
     },
     "metadata": {},
     "output_type": "display_data"
    }
   ],
   "source": [
    "# In addition to refreshing data, the following button can fetch the data of a selected date from the options. \n",
    "select_date = wdg.Dropdown(\n",
    "    options=['2021-01-01', '2021-07-01', '2022-01-01', '2022-07-01', '2023-01-01', '2023-07-01'],\n",
    "    value='2022-01-01',\n",
    "    description='Select a date',\n",
    "    disabled=False,\n",
    ")\n",
    "\n",
    "def api_button_callback(button):\n",
    "    global age_df1  \n",
    "    global age_df2\n",
    "    print('Starting refresh API call')   # Monitor an API call status in a log.\n",
    "    # While loading new data, the button is disabled with the spinner icon and 'Loading' text.\n",
    "    api_button.disabled = True\n",
    "    api_button.description = 'Loading...'\n",
    "    api_button.icon = 'spinner'\n",
    "    try:\n",
    "        new_api_data=access_api(select_date.value)\n",
    "        # Wrangle the data and overwrite the two dataframes for plotting.          \n",
    "        wrangle_data1(new_api_data).plot()\n",
    "        age_df1=wrangle_data1(new_api_data)\n",
    "        wrangle_data2(new_api_data).plot()\n",
    "        age_df2=wrangle_data2(new_api_data)\n",
    "        refresh_graphs() # Two graphs will be refreshed with this function.\n",
    "        print('Finished refresh API call') \n",
    "        # Change the button back to the original state (status and description) but show the check icon instead\n",
    "        api_button.disabled = False\n",
    "        api_button.description = 'Change date'       \n",
    "        api_button.icon = 'check'\n",
    "    except Exception as e:\n",
    "        print(f'Error message: {e}')\n",
    "        api_button.button_style = 'warning'\n",
    "        api_button.description = 'Error occurred'        \n",
    "        api_button.icon = 'exclamation-triangle'\n",
    "\n",
    "api_button = wdg.Button(\n",
    "    description='Change date',\n",
    "    disabled=False,\n",
    "    button_style='success',\n",
    "    tooltip='Click me to refresh graphs',\n",
    "    icon='download'\n",
    ")\n",
    "\n",
    "api_button.on_click(api_button_callback)\n",
    "controls = wdg.HBox([select_date, api_button])\n",
    "display(controls)"
   ]
  },
  {
   "cell_type": "code",
   "execution_count": 7,
   "metadata": {
    "ExecuteTime": {
     "end_time": "2023-12-12T12:35:01.049388Z",
     "start_time": "2023-12-12T12:35:01.044973Z"
    }
   },
   "outputs": [],
   "source": [
    "def refresh_graphs():\n",
    "    # Save the current values, change them by setting the values with empty lists, \n",
    "    # and then set them back to the current values.\n",
    "    current = infection_columns.value\n",
    "    infection_columns.value = []\n",
    "    infection_columns.value = current\n",
    "    current = vaccine_columns.value\n",
    "    vaccine_columns.value = []\n",
    "    vaccine_columns.value = current\n",
    "    # Update the two graphs according to the new data of the selected date.\n",
    "    # The widgets need to be refreshed as well.\n",
    "    graph1 = wdg.interactive_output(age_graph1, {'graphcolumns1': infection_columns})    \n",
    "    controls1 = wdg.HBox([infection_columns, select_all_button1])\n",
    "    display(controls1, graph1)\n",
    "    graph2 = wdg.interactive_output(age_graph2, {'graphcolumns2': vaccine_columns})\n",
    "    controls2 = wdg.HBox([vaccine_columns, select_all_button2])\n",
    "    display(controls2, graph2)"
   ]
  },
  {
   "cell_type": "markdown",
   "metadata": {},
   "source": [
    "## Total cases and reinfections over different age groups in England (on the selected date)"
   ]
  },
  {
   "cell_type": "markdown",
   "metadata": {},
   "source": [
    "The graph below displays two metrics: \"newCasesBySpecimenDateAgeDemographics\" as Total Infection, \"newReinfectionsBySpecimenDateAgeDemographics\" as Reinfection. \n",
    "\n",
    "You can display each data separately by selecting the options below or show them all again by clicking 'Select all'."
   ]
  },
  {
   "cell_type": "code",
   "execution_count": 8,
   "metadata": {
    "ExecuteTime": {
     "end_time": "2023-12-12T12:35:02.495537Z",
     "start_time": "2023-12-12T12:35:02.279606Z"
    }
   },
   "outputs": [
    {
     "data": {
      "text/plain": "HBox(children=(SelectMultiple(description='New Cases:', index=(0, 1), options=('Total Infection', 'Reinfection…",
      "application/vnd.jupyter.widget-view+json": {
       "version_major": 2,
       "version_minor": 0,
       "model_id": "886d27e1cb1a4f4fa985c8dfea38ebb6"
      }
     },
     "metadata": {},
     "output_type": "display_data"
    },
    {
     "data": {
      "text/plain": "Output()",
      "application/vnd.jupyter.widget-view+json": {
       "version_major": 2,
       "version_minor": 0,
       "model_id": "31ce436798db4fd5b7576b7614b9f3bd"
      }
     },
     "metadata": {},
     "output_type": "display_data"
    }
   ],
   "source": [
    "def age_graph1(graphcolumns1):\n",
    "    ncolumns1 = len(graphcolumns1)\n",
    "    if ncolumns1>0:\n",
    "        age_df1.plot.bar(y=list(graphcolumns1), color=['lightgreen', 'orange'])\n",
    "        plt.xticks(rotation=50, horizontalalignment=\"center\")\n",
    "        plt.title('Total cases and reinfections over different age groups in England')\n",
    "        plt.xlabel('Age Group')\n",
    "        plt.ylabel('Number of Cases')\n",
    "        plt.show()\n",
    "    else:\n",
    "        print('Click above selections to display a graph')\n",
    "\n",
    "# Create a multiple-selection widget for the first graph.\n",
    "infection_columns = wdg.SelectMultiple(\n",
    "    options=['Total Infection','Reinfection'],\n",
    "    value=['Total Infection','Reinfection'],\n",
    "    rows=2,\n",
    "    description='New Cases:',\n",
    "    disabled=False\n",
    ")\n",
    "\n",
    "graph1 = wdg.interactive_output(age_graph1, {'graphcolumns1': infection_columns})\n",
    "\n",
    "# Create a 'Select all' button widget because it is not clear how to select multiple options (do shift + click)\n",
    "def select_all_button_callback1(*args):\n",
    "    infection_columns.value = infection_columns.options\n",
    "\n",
    "select_all_button1 = wdg.Button(\n",
    "    description = 'Select all',\n",
    "    tooltip='Click me to select all options'\n",
    ")\n",
    "\n",
    "select_all_button1.on_click(select_all_button_callback1)\n",
    "controls1 = wdg.HBox([infection_columns, select_all_button1])\n",
    "display(controls1, graph1)"
   ]
  },
  {
   "cell_type": "markdown",
   "metadata": {},
   "source": [
    "## Number of people who received vaccinations over different age groups in England"
   ]
  },
  {
   "cell_type": "markdown",
   "metadata": {},
   "source": [
    "The graph below displays a metric \"vaccinationsAgeDemographics\" with three categories: \"cumPeopleVaccinatedFirstDoseByVaccinationDate\" as First Dose, \"cumPeopleVaccinatedSecondDoseByVaccinationDate\" as Second Dose, and \"cumPeopleVaccinatedThirdInjectionByVaccinationDate\" as Third Dose. \n",
    "\n",
    "\n",
    "You can display each data separately by selecting the options below or show them all again by clicking 'Select all'."
   ]
  },
  {
   "cell_type": "code",
   "execution_count": 9,
   "metadata": {
    "ExecuteTime": {
     "end_time": "2023-12-12T12:35:04.030743Z",
     "start_time": "2023-12-12T12:35:03.834357Z"
    }
   },
   "outputs": [
    {
     "data": {
      "text/plain": "HBox(children=(SelectMultiple(description='Vaccination:', index=(0, 1, 2), options=('First Dose', 'Second Dose…",
      "application/vnd.jupyter.widget-view+json": {
       "version_major": 2,
       "version_minor": 0,
       "model_id": "18cc684e200e4a6ca1b782c66ea2043a"
      }
     },
     "metadata": {},
     "output_type": "display_data"
    },
    {
     "data": {
      "text/plain": "Output()",
      "application/vnd.jupyter.widget-view+json": {
       "version_major": 2,
       "version_minor": 0,
       "model_id": "735ae9ba38f64af79d86b9048171019d"
      }
     },
     "metadata": {},
     "output_type": "display_data"
    }
   ],
   "source": [
    "def age_graph2(graphcolumns2):\n",
    "    ncolumns2 = len(graphcolumns2)\n",
    "    if ncolumns2>0:\n",
    "        age_df2.plot(kind='bar', y=list(graphcolumns2), color=['orange', 'lightgreen', '#0AA7CE'])\n",
    "        plt.xticks(rotation=50, horizontalalignment=\"center\")\n",
    "        plt.title('Number of people who received vaccinations over different age groups in England')\n",
    "        plt.xlabel('Age Group')\n",
    "        plt.ylabel('Number of Cases')\n",
    "        plt.show()\n",
    "    else:\n",
    "        print('click above selections to refresh graph')\n",
    "\n",
    "vaccine_columns = wdg.SelectMultiple(\n",
    "    options=['First Dose', 'Second Dose', 'Third Dose'],\n",
    "    value=['First Dose', 'Second Dose', 'Third Dose'],\n",
    "    rows=3,\n",
    "    description='Vaccination:',\n",
    "    disabled=False\n",
    ")\n",
    "\n",
    "graph2 = wdg.interactive_output(age_graph2, {'graphcolumns2': vaccine_columns})\n",
    "\n",
    "def select_all_button_callback2(*args):\n",
    "    vaccine_columns.value = vaccine_columns.options\n",
    "    \n",
    "select_all_button2 = wdg.Button(\n",
    "    description = 'Select all',\n",
    "    tooltip='Click me to select all options'\n",
    ")\n",
    "\n",
    "select_all_button2.on_click(select_all_button_callback2)\n",
    "controls2 = wdg.HBox([vaccine_columns, select_all_button2])\n",
    "display(controls2, graph2)"
   ]
  },
  {
   "cell_type": "markdown",
   "metadata": {},
   "source": [
    "**Author and Copyright Notice** Based on UK Government [data](https://coronavirus.data.gov.uk/) published by [Public Health England](https://www.gov.uk/government/organisations/public-health-england) and on the [DIY Covid Dashboard Kit](https://github.com/fsmeraldi/diy-covid19dash) by Fabrizio Smeraldi, Copyright (C) Miki Suzuki 2023. Released under the [GNU GPLv3.0 or later](https://www.gnu.org/licenses/)."
   ]
  }
 ],
 "metadata": {
  "kernelspec": {
   "display_name": "Python 3 (ipykernel)",
   "language": "python",
   "name": "python3"
  },
  "language_info": {
   "codemirror_mode": {
    "name": "ipython",
    "version": 3
   },
   "file_extension": ".py",
   "mimetype": "text/x-python",
   "name": "python",
   "nbconvert_exporter": "python",
   "pygments_lexer": "ipython3",
   "version": "3.10.13"
  }
 },
 "nbformat": 4,
 "nbformat_minor": 4
}
